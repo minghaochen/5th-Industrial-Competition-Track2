{
 "cells": [
  {
   "cell_type": "code",
   "execution_count": 2,
   "id": "4b7ce51f",
   "metadata": {},
   "outputs": [],
   "source": [
    "import numpy as np\n",
    "import pandas as pd\n",
    "from tqdm import tqdm\n",
    "import gc"
   ]
  },
  {
   "cell_type": "code",
   "execution_count": 3,
   "id": "9cf921e4",
   "metadata": {},
   "outputs": [],
   "source": [
    "main_df = pd.read_csv('main_df.csv')\n",
    "fea_col = sorted(list(set(list(main_df.columns)) - set(['matrl_id','year'])))"
   ]
  },
  {
   "cell_type": "code",
   "execution_count": 4,
   "id": "c1cf93bc",
   "metadata": {},
   "outputs": [
    {
     "data": {
      "text/plain": [
       "Index(['matrl_id', 'year', 'month', 'month_sale', 'host_nums_01',\n",
       "       'host_nums_02', 'host_nums_03', 'host_nums_04', 'host_nums_05',\n",
       "       'host_nums_07', 'host_nums_08', 'host_nums_09', 'host_nums_10',\n",
       "       'host_nums_13', 'host_nums_18', 'host_nums_19', 'host_nums_32',\n",
       "       'host_nums_33', 'host_nums_34', 'host_nums_35', 'host_nums_36',\n",
       "       'host_nums_A7', 'work_time_01', 'work_time_02', 'work_time_03',\n",
       "       'work_time_04', 'work_time_05', 'work_time_33', 'work_time_34',\n",
       "       'work_time_35', 'work_time_A7', 'work_nums_01', 'work_nums_02',\n",
       "       'work_nums_03', 'work_nums_04', 'work_nums_05', 'work_nums_33',\n",
       "       'work_nums_34', 'work_nums_35', 'work_nums_A7'],\n",
       "      dtype='object')"
      ]
     },
     "execution_count": 4,
     "metadata": {},
     "output_type": "execute_result"
    }
   ],
   "source": [
    "main_df.columns"
   ]
  },
  {
   "cell_type": "code",
   "execution_count": 5,
   "id": "a5509586",
   "metadata": {},
   "outputs": [],
   "source": [
    "diff_col = sorted(list(set(list(main_df.columns)) - set(['matrl_id','year','month'])))"
   ]
  },
  {
   "cell_type": "code",
   "execution_count": 12,
   "id": "5b7885a4",
   "metadata": {},
   "outputs": [],
   "source": [
    "for col in diff_col:\n",
    "    main_df[f'diff_{col}'] = main_df.groupby(['matrl_id'])[col].diff(1)"
   ]
  },
  {
   "cell_type": "code",
   "execution_count": 52,
   "id": "4d1e73c2",
   "metadata": {},
   "outputs": [],
   "source": [
    "fea_col = sorted(list(set(list(main_df.columns)) - set(['matrl_id','year'])))"
   ]
  },
  {
   "cell_type": "code",
   "execution_count": 70,
   "id": "208e6eb2",
   "metadata": {},
   "outputs": [
    {
     "name": "stdout",
     "output_type": "stream",
     "text": [
      "(25, 3, 75)\n",
      "(25, 3, 1)\n"
     ]
    }
   ],
   "source": [
    "def series_to_superviesed(x_timeseries, y_timeseries, n_memory_step, n_forcast_step, split = None):\n",
    "    input_step, input_feature = x_timeseries.shape\n",
    "    output_step, output_feature = y_timeseries.shape\n",
    "\n",
    "    n_RNN_sample=input_step-n_forcast_step-n_memory_step+1\n",
    "    RNN_x=np.zeros((n_RNN_sample,n_memory_step, input_feature))\n",
    "    RNN_y=np.zeros((n_RNN_sample,n_forcast_step, output_feature))\n",
    "\n",
    "    for n in range(n_RNN_sample):\n",
    "        RNN_x[n,:,:]=x_timeseries[n:n+n_memory_step,:]\n",
    "        RNN_y[n,:,:]=y_timeseries[n+n_memory_step:n+n_memory_step+n_forcast_step,:]\n",
    "    if split != None:\n",
    "        assert (split <=0.9) & (split >= 0.1), 'split not in reasonable range'\n",
    "        return RNN_x[:int(split*len(RNN_x))], RNN_y[:int(split*len(RNN_x))],\\\n",
    "               RNN_x[int(split*len(RNN_x))+1:], RNN_y[int(split*len(RNN_x))+1:]\n",
    "    else:\n",
    "        return RNN_x, RNN_y, None, None\n",
    "\n",
    "X, Y = [], []\n",
    "X_test = []\n",
    "for i in range(1,1201):\n",
    "    df_i = main_df[main_df['matrl_id']==i].copy()\n",
    "    x_timeseries = df_i[fea_col].values\n",
    "    y_timeseries = df_i[\"month_sale\"].values.reshape(-1,1)\n",
    "    x_train,y_train,x_test,y_test = series_to_superviesed(x_timeseries,y_timeseries,3,3)\n",
    "    if i == 1:\n",
    "        print(x_train.shape)\n",
    "        print(y_train.shape)\n",
    "    X.append(x_train)\n",
    "    Y.append(y_train)\n",
    "    x_test = df_i[fea_col].values[-3:].reshape(1,3,75)\n",
    "    X_test.append(x_test)\n",
    "    del x_train,y_train,x_test,y_test,df_i\n",
    "    gc.collect()"
   ]
  },
  {
   "cell_type": "code",
   "execution_count": 71,
   "id": "f289c100",
   "metadata": {},
   "outputs": [
    {
     "name": "stdout",
     "output_type": "stream",
     "text": [
      "(30000, 225)\n"
     ]
    }
   ],
   "source": [
    "X = np.vstack(X)\n",
    "Y = np.vstack(Y)\n",
    "X = X.reshape(-1,3*75)\n",
    "Y = Y.reshape(-1,3)\n",
    "print(X.shape)"
   ]
  },
  {
   "cell_type": "code",
   "execution_count": 73,
   "id": "338bdf31",
   "metadata": {},
   "outputs": [],
   "source": [
    "X_test = np.vstack(X_test)\n",
    "X_test = X_test.reshape(-1,3*75)"
   ]
  },
  {
   "cell_type": "code",
   "execution_count": 74,
   "id": "d82863bc",
   "metadata": {},
   "outputs": [
    {
     "data": {
      "text/plain": [
       "(1200, 225)"
      ]
     },
     "execution_count": 74,
     "metadata": {},
     "output_type": "execute_result"
    }
   ],
   "source": [
    "X_test.shape"
   ]
  },
  {
   "cell_type": "code",
   "execution_count": 56,
   "id": "b8606c7c",
   "metadata": {},
   "outputs": [],
   "source": [
    "test_idx = [1]*1200 + [2]*1200 + [3]*1200\n",
    "test_idx = np.array(test_idx).reshape(-1,1)\n",
    "X_test_new = np.vstack([X_test,X_test,X_test])\n",
    "X_test_new = np.hstack([X_test_new,test_idx])"
   ]
  },
  {
   "cell_type": "code",
   "execution_count": 57,
   "id": "2525e989",
   "metadata": {},
   "outputs": [
    {
     "data": {
      "text/plain": [
       "(3600, 901)"
      ]
     },
     "execution_count": 57,
     "metadata": {},
     "output_type": "execute_result"
    }
   ],
   "source": [
    "X_test_new.shape"
   ]
  },
  {
   "cell_type": "code",
   "execution_count": 58,
   "id": "7e2b670c",
   "metadata": {},
   "outputs": [],
   "source": [
    "idx = [1]*19200 + [2]*19200 + [3]*19200\n",
    "idx = np.array(idx).reshape(-1,1)"
   ]
  },
  {
   "cell_type": "code",
   "execution_count": 59,
   "id": "27d9134c",
   "metadata": {},
   "outputs": [],
   "source": [
    "X_new = np.vstack([X,X,X])\n",
    "X_new = np.hstack([X_new,idx])"
   ]
  },
  {
   "cell_type": "code",
   "execution_count": 60,
   "id": "062b0bf0",
   "metadata": {},
   "outputs": [
    {
     "name": "stdout",
     "output_type": "stream",
     "text": [
      "(57600,)\n"
     ]
    }
   ],
   "source": [
    "Y_new = np.hstack([Y[:,0],Y[:,1],Y[:,2]])\n",
    "print(Y_new.shape)"
   ]
  },
  {
   "cell_type": "code",
   "execution_count": null,
   "id": "dd369ac3",
   "metadata": {},
   "outputs": [],
   "source": []
  },
  {
   "cell_type": "code",
   "execution_count": 75,
   "id": "5a0e7bca",
   "metadata": {},
   "outputs": [],
   "source": [
    "from lightgbm import LGBMRegressor\n",
    "from sklearn.model_selection import StratifiedKFold\n",
    "from sklearn.model_selection import KFold"
   ]
  },
  {
   "cell_type": "code",
   "execution_count": 77,
   "id": "ab8408ae",
   "metadata": {},
   "outputs": [
    {
     "name": "stderr",
     "output_type": "stream",
     "text": [
      "C:\\Users\\mh_chen\\anaconda3\\envs\\DGL\\lib\\site-packages\\lightgbm\\sklearn.py:726: UserWarning: 'early_stopping_rounds' argument is deprecated and will be removed in a future release of LightGBM. Pass 'early_stopping()' callback via 'callbacks' argument instead.\n",
      "  _log_warning(\"'early_stopping_rounds' argument is deprecated and will be removed in a future release of LightGBM. \"\n",
      "C:\\Users\\mh_chen\\anaconda3\\envs\\DGL\\lib\\site-packages\\lightgbm\\sklearn.py:736: UserWarning: 'verbose' argument is deprecated and will be removed in a future release of LightGBM. Pass 'log_evaluation()' callback via 'callbacks' argument instead.\n",
      "  _log_warning(\"'verbose' argument is deprecated and will be removed in a future release of LightGBM. \"\n"
     ]
    },
    {
     "name": "stdout",
     "output_type": "stream",
     "text": [
      "[100]\tvalid_0's rmse: 77.8347\n",
      "[200]\tvalid_0's rmse: 70.2586\n",
      "[300]\tvalid_0's rmse: 70.3288\n"
     ]
    },
    {
     "name": "stderr",
     "output_type": "stream",
     "text": [
      "C:\\Users\\mh_chen\\anaconda3\\envs\\DGL\\lib\\site-packages\\lightgbm\\sklearn.py:726: UserWarning: 'early_stopping_rounds' argument is deprecated and will be removed in a future release of LightGBM. Pass 'early_stopping()' callback via 'callbacks' argument instead.\n",
      "  _log_warning(\"'early_stopping_rounds' argument is deprecated and will be removed in a future release of LightGBM. \"\n",
      "C:\\Users\\mh_chen\\anaconda3\\envs\\DGL\\lib\\site-packages\\lightgbm\\sklearn.py:736: UserWarning: 'verbose' argument is deprecated and will be removed in a future release of LightGBM. Pass 'log_evaluation()' callback via 'callbacks' argument instead.\n",
      "  _log_warning(\"'verbose' argument is deprecated and will be removed in a future release of LightGBM. \"\n"
     ]
    },
    {
     "name": "stdout",
     "output_type": "stream",
     "text": [
      "[100]\tvalid_0's rmse: 71.9101\n",
      "[200]\tvalid_0's rmse: 62.5146\n"
     ]
    },
    {
     "name": "stderr",
     "output_type": "stream",
     "text": [
      "C:\\Users\\mh_chen\\anaconda3\\envs\\DGL\\lib\\site-packages\\lightgbm\\sklearn.py:726: UserWarning: 'early_stopping_rounds' argument is deprecated and will be removed in a future release of LightGBM. Pass 'early_stopping()' callback via 'callbacks' argument instead.\n",
      "  _log_warning(\"'early_stopping_rounds' argument is deprecated and will be removed in a future release of LightGBM. \"\n",
      "C:\\Users\\mh_chen\\anaconda3\\envs\\DGL\\lib\\site-packages\\lightgbm\\sklearn.py:736: UserWarning: 'verbose' argument is deprecated and will be removed in a future release of LightGBM. Pass 'log_evaluation()' callback via 'callbacks' argument instead.\n",
      "  _log_warning(\"'verbose' argument is deprecated and will be removed in a future release of LightGBM. \"\n"
     ]
    },
    {
     "name": "stdout",
     "output_type": "stream",
     "text": [
      "[100]\tvalid_0's rmse: 77.5458\n",
      "[200]\tvalid_0's rmse: 65.9184\n",
      "[300]\tvalid_0's rmse: 65.6207\n"
     ]
    },
    {
     "name": "stderr",
     "output_type": "stream",
     "text": [
      "C:\\Users\\mh_chen\\anaconda3\\envs\\DGL\\lib\\site-packages\\lightgbm\\sklearn.py:726: UserWarning: 'early_stopping_rounds' argument is deprecated and will be removed in a future release of LightGBM. Pass 'early_stopping()' callback via 'callbacks' argument instead.\n",
      "  _log_warning(\"'early_stopping_rounds' argument is deprecated and will be removed in a future release of LightGBM. \"\n",
      "C:\\Users\\mh_chen\\anaconda3\\envs\\DGL\\lib\\site-packages\\lightgbm\\sklearn.py:736: UserWarning: 'verbose' argument is deprecated and will be removed in a future release of LightGBM. Pass 'log_evaluation()' callback via 'callbacks' argument instead.\n",
      "  _log_warning(\"'verbose' argument is deprecated and will be removed in a future release of LightGBM. \"\n"
     ]
    },
    {
     "name": "stdout",
     "output_type": "stream",
     "text": [
      "[100]\tvalid_0's rmse: 83.7126\n",
      "[200]\tvalid_0's rmse: 79.9088\n"
     ]
    },
    {
     "name": "stderr",
     "output_type": "stream",
     "text": [
      "C:\\Users\\mh_chen\\anaconda3\\envs\\DGL\\lib\\site-packages\\lightgbm\\sklearn.py:726: UserWarning: 'early_stopping_rounds' argument is deprecated and will be removed in a future release of LightGBM. Pass 'early_stopping()' callback via 'callbacks' argument instead.\n",
      "  _log_warning(\"'early_stopping_rounds' argument is deprecated and will be removed in a future release of LightGBM. \"\n",
      "C:\\Users\\mh_chen\\anaconda3\\envs\\DGL\\lib\\site-packages\\lightgbm\\sklearn.py:736: UserWarning: 'verbose' argument is deprecated and will be removed in a future release of LightGBM. Pass 'log_evaluation()' callback via 'callbacks' argument instead.\n",
      "  _log_warning(\"'verbose' argument is deprecated and will be removed in a future release of LightGBM. \"\n"
     ]
    },
    {
     "name": "stdout",
     "output_type": "stream",
     "text": [
      "[100]\tvalid_0's rmse: 81.134\n",
      "[200]\tvalid_0's rmse: 75.9765\n"
     ]
    },
    {
     "name": "stderr",
     "output_type": "stream",
     "text": [
      "C:\\Users\\mh_chen\\anaconda3\\envs\\DGL\\lib\\site-packages\\lightgbm\\sklearn.py:726: UserWarning: 'early_stopping_rounds' argument is deprecated and will be removed in a future release of LightGBM. Pass 'early_stopping()' callback via 'callbacks' argument instead.\n",
      "  _log_warning(\"'early_stopping_rounds' argument is deprecated and will be removed in a future release of LightGBM. \"\n",
      "C:\\Users\\mh_chen\\anaconda3\\envs\\DGL\\lib\\site-packages\\lightgbm\\sklearn.py:736: UserWarning: 'verbose' argument is deprecated and will be removed in a future release of LightGBM. Pass 'log_evaluation()' callback via 'callbacks' argument instead.\n",
      "  _log_warning(\"'verbose' argument is deprecated and will be removed in a future release of LightGBM. \"\n"
     ]
    },
    {
     "name": "stdout",
     "output_type": "stream",
     "text": [
      "[100]\tvalid_0's rmse: 81.6724\n",
      "[200]\tvalid_0's rmse: 73.577\n"
     ]
    },
    {
     "name": "stderr",
     "output_type": "stream",
     "text": [
      "C:\\Users\\mh_chen\\anaconda3\\envs\\DGL\\lib\\site-packages\\lightgbm\\sklearn.py:726: UserWarning: 'early_stopping_rounds' argument is deprecated and will be removed in a future release of LightGBM. Pass 'early_stopping()' callback via 'callbacks' argument instead.\n",
      "  _log_warning(\"'early_stopping_rounds' argument is deprecated and will be removed in a future release of LightGBM. \"\n",
      "C:\\Users\\mh_chen\\anaconda3\\envs\\DGL\\lib\\site-packages\\lightgbm\\sklearn.py:736: UserWarning: 'verbose' argument is deprecated and will be removed in a future release of LightGBM. Pass 'log_evaluation()' callback via 'callbacks' argument instead.\n",
      "  _log_warning(\"'verbose' argument is deprecated and will be removed in a future release of LightGBM. \"\n"
     ]
    },
    {
     "name": "stdout",
     "output_type": "stream",
     "text": [
      "[100]\tvalid_0's rmse: 96.3513\n",
      "[200]\tvalid_0's rmse: 86.0101\n",
      "[300]\tvalid_0's rmse: 84.5269\n"
     ]
    },
    {
     "name": "stderr",
     "output_type": "stream",
     "text": [
      "C:\\Users\\mh_chen\\anaconda3\\envs\\DGL\\lib\\site-packages\\lightgbm\\sklearn.py:726: UserWarning: 'early_stopping_rounds' argument is deprecated and will be removed in a future release of LightGBM. Pass 'early_stopping()' callback via 'callbacks' argument instead.\n",
      "  _log_warning(\"'early_stopping_rounds' argument is deprecated and will be removed in a future release of LightGBM. \"\n",
      "C:\\Users\\mh_chen\\anaconda3\\envs\\DGL\\lib\\site-packages\\lightgbm\\sklearn.py:736: UserWarning: 'verbose' argument is deprecated and will be removed in a future release of LightGBM. Pass 'log_evaluation()' callback via 'callbacks' argument instead.\n",
      "  _log_warning(\"'verbose' argument is deprecated and will be removed in a future release of LightGBM. \"\n"
     ]
    },
    {
     "name": "stdout",
     "output_type": "stream",
     "text": [
      "[100]\tvalid_0's rmse: 104.29\n",
      "[200]\tvalid_0's rmse: 91.5965\n",
      "[300]\tvalid_0's rmse: 88.183\n"
     ]
    },
    {
     "name": "stderr",
     "output_type": "stream",
     "text": [
      "C:\\Users\\mh_chen\\anaconda3\\envs\\DGL\\lib\\site-packages\\lightgbm\\sklearn.py:726: UserWarning: 'early_stopping_rounds' argument is deprecated and will be removed in a future release of LightGBM. Pass 'early_stopping()' callback via 'callbacks' argument instead.\n",
      "  _log_warning(\"'early_stopping_rounds' argument is deprecated and will be removed in a future release of LightGBM. \"\n",
      "C:\\Users\\mh_chen\\anaconda3\\envs\\DGL\\lib\\site-packages\\lightgbm\\sklearn.py:736: UserWarning: 'verbose' argument is deprecated and will be removed in a future release of LightGBM. Pass 'log_evaluation()' callback via 'callbacks' argument instead.\n",
      "  _log_warning(\"'verbose' argument is deprecated and will be removed in a future release of LightGBM. \"\n"
     ]
    },
    {
     "name": "stdout",
     "output_type": "stream",
     "text": [
      "[100]\tvalid_0's rmse: 108.205\n",
      "[200]\tvalid_0's rmse: 93.293\n",
      "[300]\tvalid_0's rmse: 90.5279\n",
      "[400]\tvalid_0's rmse: 90.1986\n"
     ]
    },
    {
     "name": "stderr",
     "output_type": "stream",
     "text": [
      "C:\\Users\\mh_chen\\anaconda3\\envs\\DGL\\lib\\site-packages\\lightgbm\\sklearn.py:726: UserWarning: 'early_stopping_rounds' argument is deprecated and will be removed in a future release of LightGBM. Pass 'early_stopping()' callback via 'callbacks' argument instead.\n",
      "  _log_warning(\"'early_stopping_rounds' argument is deprecated and will be removed in a future release of LightGBM. \"\n",
      "C:\\Users\\mh_chen\\anaconda3\\envs\\DGL\\lib\\site-packages\\lightgbm\\sklearn.py:736: UserWarning: 'verbose' argument is deprecated and will be removed in a future release of LightGBM. Pass 'log_evaluation()' callback via 'callbacks' argument instead.\n",
      "  _log_warning(\"'verbose' argument is deprecated and will be removed in a future release of LightGBM. \"\n"
     ]
    },
    {
     "name": "stdout",
     "output_type": "stream",
     "text": [
      "[100]\tvalid_0's rmse: 366.657\n",
      "[200]\tvalid_0's rmse: 347.642\n",
      "[300]\tvalid_0's rmse: 335.593\n",
      "[400]\tvalid_0's rmse: 332.829\n",
      "[500]\tvalid_0's rmse: 331.347\n"
     ]
    },
    {
     "name": "stderr",
     "output_type": "stream",
     "text": [
      "C:\\Users\\mh_chen\\anaconda3\\envs\\DGL\\lib\\site-packages\\lightgbm\\sklearn.py:726: UserWarning: 'early_stopping_rounds' argument is deprecated and will be removed in a future release of LightGBM. Pass 'early_stopping()' callback via 'callbacks' argument instead.\n",
      "  _log_warning(\"'early_stopping_rounds' argument is deprecated and will be removed in a future release of LightGBM. \"\n",
      "C:\\Users\\mh_chen\\anaconda3\\envs\\DGL\\lib\\site-packages\\lightgbm\\sklearn.py:736: UserWarning: 'verbose' argument is deprecated and will be removed in a future release of LightGBM. Pass 'log_evaluation()' callback via 'callbacks' argument instead.\n",
      "  _log_warning(\"'verbose' argument is deprecated and will be removed in a future release of LightGBM. \"\n"
     ]
    },
    {
     "name": "stdout",
     "output_type": "stream",
     "text": [
      "[100]\tvalid_0's rmse: 337.205\n",
      "[200]\tvalid_0's rmse: 317.416\n",
      "[300]\tvalid_0's rmse: 308.015\n",
      "[400]\tvalid_0's rmse: 302.884\n"
     ]
    },
    {
     "name": "stderr",
     "output_type": "stream",
     "text": [
      "C:\\Users\\mh_chen\\anaconda3\\envs\\DGL\\lib\\site-packages\\lightgbm\\sklearn.py:726: UserWarning: 'early_stopping_rounds' argument is deprecated and will be removed in a future release of LightGBM. Pass 'early_stopping()' callback via 'callbacks' argument instead.\n",
      "  _log_warning(\"'early_stopping_rounds' argument is deprecated and will be removed in a future release of LightGBM. \"\n",
      "C:\\Users\\mh_chen\\anaconda3\\envs\\DGL\\lib\\site-packages\\lightgbm\\sklearn.py:736: UserWarning: 'verbose' argument is deprecated and will be removed in a future release of LightGBM. Pass 'log_evaluation()' callback via 'callbacks' argument instead.\n",
      "  _log_warning(\"'verbose' argument is deprecated and will be removed in a future release of LightGBM. \"\n"
     ]
    },
    {
     "name": "stdout",
     "output_type": "stream",
     "text": [
      "[100]\tvalid_0's rmse: 326.175\n",
      "[200]\tvalid_0's rmse: 303.874\n",
      "[300]\tvalid_0's rmse: 291.952\n",
      "[400]\tvalid_0's rmse: 287.217\n",
      "[500]\tvalid_0's rmse: 285.863\n"
     ]
    },
    {
     "name": "stderr",
     "output_type": "stream",
     "text": [
      "C:\\Users\\mh_chen\\anaconda3\\envs\\DGL\\lib\\site-packages\\lightgbm\\sklearn.py:726: UserWarning: 'early_stopping_rounds' argument is deprecated and will be removed in a future release of LightGBM. Pass 'early_stopping()' callback via 'callbacks' argument instead.\n",
      "  _log_warning(\"'early_stopping_rounds' argument is deprecated and will be removed in a future release of LightGBM. \"\n",
      "C:\\Users\\mh_chen\\anaconda3\\envs\\DGL\\lib\\site-packages\\lightgbm\\sklearn.py:736: UserWarning: 'verbose' argument is deprecated and will be removed in a future release of LightGBM. Pass 'log_evaluation()' callback via 'callbacks' argument instead.\n",
      "  _log_warning(\"'verbose' argument is deprecated and will be removed in a future release of LightGBM. \"\n"
     ]
    },
    {
     "name": "stdout",
     "output_type": "stream",
     "text": [
      "[100]\tvalid_0's rmse: 103.025\n",
      "[200]\tvalid_0's rmse: 96.9648\n"
     ]
    },
    {
     "name": "stderr",
     "output_type": "stream",
     "text": [
      "C:\\Users\\mh_chen\\anaconda3\\envs\\DGL\\lib\\site-packages\\lightgbm\\sklearn.py:726: UserWarning: 'early_stopping_rounds' argument is deprecated and will be removed in a future release of LightGBM. Pass 'early_stopping()' callback via 'callbacks' argument instead.\n",
      "  _log_warning(\"'early_stopping_rounds' argument is deprecated and will be removed in a future release of LightGBM. \"\n",
      "C:\\Users\\mh_chen\\anaconda3\\envs\\DGL\\lib\\site-packages\\lightgbm\\sklearn.py:736: UserWarning: 'verbose' argument is deprecated and will be removed in a future release of LightGBM. Pass 'log_evaluation()' callback via 'callbacks' argument instead.\n",
      "  _log_warning(\"'verbose' argument is deprecated and will be removed in a future release of LightGBM. \"\n"
     ]
    },
    {
     "name": "stdout",
     "output_type": "stream",
     "text": [
      "[100]\tvalid_0's rmse: 120.575\n"
     ]
    },
    {
     "name": "stderr",
     "output_type": "stream",
     "text": [
      "C:\\Users\\mh_chen\\anaconda3\\envs\\DGL\\lib\\site-packages\\lightgbm\\sklearn.py:726: UserWarning: 'early_stopping_rounds' argument is deprecated and will be removed in a future release of LightGBM. Pass 'early_stopping()' callback via 'callbacks' argument instead.\n",
      "  _log_warning(\"'early_stopping_rounds' argument is deprecated and will be removed in a future release of LightGBM. \"\n",
      "C:\\Users\\mh_chen\\anaconda3\\envs\\DGL\\lib\\site-packages\\lightgbm\\sklearn.py:736: UserWarning: 'verbose' argument is deprecated and will be removed in a future release of LightGBM. Pass 'log_evaluation()' callback via 'callbacks' argument instead.\n",
      "  _log_warning(\"'verbose' argument is deprecated and will be removed in a future release of LightGBM. \"\n"
     ]
    },
    {
     "name": "stdout",
     "output_type": "stream",
     "text": [
      "[100]\tvalid_0's rmse: 118.81\n"
     ]
    }
   ],
   "source": [
    "skf = KFold(n_splits=5)\n",
    "fold = 0\n",
    "for train_index, valid_index in skf.split(X):\n",
    "    \n",
    "    for y_id in range(3):\n",
    "        model = LGBMRegressor(boosting_type='gbdt', objective='regression', num_leaves=128,\n",
    "                              learning_rate=0.01, n_estimators=10000, max_depth=-1,\n",
    "                              metric='rmse', subsample=0.8, subsample_freq = 5,\n",
    "                              colsample_bytree=0.8,\n",
    "                              reg_alpha=0.1, reg_lambda=0.2, random_state = 2021)\n",
    "        model.fit(\n",
    "            X[train_index], Y[train_index,y_id],\n",
    "            eval_set=[(X[valid_index], Y[valid_index,y_id])],\n",
    "            eval_metric='rmse',\n",
    "            early_stopping_rounds=50,\n",
    "            verbose=100\n",
    "        )\n",
    "    \n",
    "        if fold == 0:\n",
    "            if y_id == 0:\n",
    "                pred0 = model.predict(X_test)/5\n",
    "            elif y_id == 1:\n",
    "                pred1 = model.predict(X_test)/5\n",
    "            else:\n",
    "                pred2 = model.predict(X_test)/5\n",
    "        else:\n",
    "            if y_id == 0:\n",
    "                pred0 += model.predict(X_test)/5\n",
    "            elif y_id == 1:\n",
    "                pred1 += model.predict(X_test)/5\n",
    "            else:\n",
    "                pred2 += model.predict(X_test)/5\n",
    "    fold += 1"
   ]
  },
  {
   "cell_type": "code",
   "execution_count": 83,
   "id": "34d4d61b",
   "metadata": {},
   "outputs": [
    {
     "data": {
      "text/plain": [
       "array([ 5.3992389 , 19.9473084 ,  8.83060649, ...,  4.89364751,\n",
       "       20.51537794,  5.08771659])"
      ]
     },
     "execution_count": 83,
     "metadata": {},
     "output_type": "execute_result"
    }
   ],
   "source": [
    "pred0"
   ]
  },
  {
   "cell_type": "code",
   "execution_count": 84,
   "id": "8d7983c6",
   "metadata": {},
   "outputs": [],
   "source": [
    "sub = pd.DataFrame(columns=[\"matrl_id\",\"month\",\"nums\"])\n",
    "for i in range(1,1201):\n",
    "    temp = pd.DataFrame({\"matrl_id\":[i,i,i],\"month\":[202007,202008,202009],\"nums\":[round(pred0[i-1]),round(pred1[i-1]),round(pred2[i-1])]})\n",
    "    sub=sub.append(temp,ignore_index=True)\n",
    "    "
   ]
  },
  {
   "cell_type": "code",
   "execution_count": 85,
   "id": "a92e88e1",
   "metadata": {},
   "outputs": [],
   "source": [
    "sub.to_csv('lgb.csv',index=None)"
   ]
  },
  {
   "cell_type": "code",
   "execution_count": 86,
   "id": "0c76afee",
   "metadata": {},
   "outputs": [
    {
     "data": {
      "text/html": [
       "<div>\n",
       "<style scoped>\n",
       "    .dataframe tbody tr th:only-of-type {\n",
       "        vertical-align: middle;\n",
       "    }\n",
       "\n",
       "    .dataframe tbody tr th {\n",
       "        vertical-align: top;\n",
       "    }\n",
       "\n",
       "    .dataframe thead th {\n",
       "        text-align: right;\n",
       "    }\n",
       "</style>\n",
       "<table border=\"1\" class=\"dataframe\">\n",
       "  <thead>\n",
       "    <tr style=\"text-align: right;\">\n",
       "      <th></th>\n",
       "      <th>matrl_id</th>\n",
       "      <th>month</th>\n",
       "      <th>nums</th>\n",
       "    </tr>\n",
       "  </thead>\n",
       "  <tbody>\n",
       "    <tr>\n",
       "      <th>0</th>\n",
       "      <td>1</td>\n",
       "      <td>202007</td>\n",
       "      <td>5</td>\n",
       "    </tr>\n",
       "    <tr>\n",
       "      <th>1</th>\n",
       "      <td>1</td>\n",
       "      <td>202008</td>\n",
       "      <td>7</td>\n",
       "    </tr>\n",
       "    <tr>\n",
       "      <th>2</th>\n",
       "      <td>1</td>\n",
       "      <td>202009</td>\n",
       "      <td>11</td>\n",
       "    </tr>\n",
       "    <tr>\n",
       "      <th>3</th>\n",
       "      <td>2</td>\n",
       "      <td>202007</td>\n",
       "      <td>20</td>\n",
       "    </tr>\n",
       "    <tr>\n",
       "      <th>4</th>\n",
       "      <td>2</td>\n",
       "      <td>202008</td>\n",
       "      <td>20</td>\n",
       "    </tr>\n",
       "    <tr>\n",
       "      <th>...</th>\n",
       "      <td>...</td>\n",
       "      <td>...</td>\n",
       "      <td>...</td>\n",
       "    </tr>\n",
       "    <tr>\n",
       "      <th>3595</th>\n",
       "      <td>1199</td>\n",
       "      <td>202008</td>\n",
       "      <td>30</td>\n",
       "    </tr>\n",
       "    <tr>\n",
       "      <th>3596</th>\n",
       "      <td>1199</td>\n",
       "      <td>202009</td>\n",
       "      <td>34</td>\n",
       "    </tr>\n",
       "    <tr>\n",
       "      <th>3597</th>\n",
       "      <td>1200</td>\n",
       "      <td>202007</td>\n",
       "      <td>5</td>\n",
       "    </tr>\n",
       "    <tr>\n",
       "      <th>3598</th>\n",
       "      <td>1200</td>\n",
       "      <td>202008</td>\n",
       "      <td>6</td>\n",
       "    </tr>\n",
       "    <tr>\n",
       "      <th>3599</th>\n",
       "      <td>1200</td>\n",
       "      <td>202009</td>\n",
       "      <td>7</td>\n",
       "    </tr>\n",
       "  </tbody>\n",
       "</table>\n",
       "<p>3600 rows × 3 columns</p>\n",
       "</div>"
      ],
      "text/plain": [
       "     matrl_id   month nums\n",
       "0           1  202007    5\n",
       "1           1  202008    7\n",
       "2           1  202009   11\n",
       "3           2  202007   20\n",
       "4           2  202008   20\n",
       "...       ...     ...  ...\n",
       "3595     1199  202008   30\n",
       "3596     1199  202009   34\n",
       "3597     1200  202007    5\n",
       "3598     1200  202008    6\n",
       "3599     1200  202009    7\n",
       "\n",
       "[3600 rows x 3 columns]"
      ]
     },
     "execution_count": 86,
     "metadata": {},
     "output_type": "execute_result"
    }
   ],
   "source": [
    "sub"
   ]
  },
  {
   "cell_type": "code",
   "execution_count": null,
   "id": "9e3f4156",
   "metadata": {},
   "outputs": [],
   "source": []
  }
 ],
 "metadata": {
  "kernelspec": {
   "display_name": "Python 3",
   "language": "python",
   "name": "python3"
  },
  "language_info": {
   "codemirror_mode": {
    "name": "ipython",
    "version": 3
   },
   "file_extension": ".py",
   "mimetype": "text/x-python",
   "name": "python",
   "nbconvert_exporter": "python",
   "pygments_lexer": "ipython3",
   "version": "3.6.8"
  }
 },
 "nbformat": 4,
 "nbformat_minor": 5
}
